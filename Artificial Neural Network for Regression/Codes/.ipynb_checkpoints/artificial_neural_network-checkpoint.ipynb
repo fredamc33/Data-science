{
 "cells": [
  {
   "cell_type": "markdown",
   "metadata": {
    "colab_type": "text",
    "id": "3cbb7fRy-eyr"
   },
   "source": [
    "# Artificial Neural Network"
   ]
  },
  {
   "cell_type": "markdown",
   "metadata": {
    "colab_type": "text",
    "id": "8sNDnxE2-pwE"
   },
   "source": [
    "### Importing the libraries"
   ]
  },
  {
   "cell_type": "code",
   "execution_count": 1,
   "metadata": {
    "colab": {},
    "colab_type": "code",
    "id": "lxChR1Rk-umf"
   },
   "outputs": [],
   "source": [
    "import numpy as np\n",
    "import pandas as pd\n",
    "import tensorflow as tf"
   ]
  },
  {
   "cell_type": "code",
   "execution_count": 2,
   "metadata": {
    "colab": {
     "base_uri": "https://localhost:8080/",
     "height": 34
    },
    "colab_type": "code",
    "id": "uBTqR3nacj0e",
    "outputId": "4c0bd183-e424-429a-9fba-ceb841c06888"
   },
   "outputs": [
    {
     "data": {
      "text/plain": [
       "'2.2.0'"
      ]
     },
     "execution_count": 2,
     "metadata": {},
     "output_type": "execute_result"
    }
   ],
   "source": [
    "tf.__version__"
   ]
  },
  {
   "cell_type": "markdown",
   "metadata": {
    "colab_type": "text",
    "id": "AG3FQEch-yuA"
   },
   "source": [
    "## Part 1 - Data Preprocessing"
   ]
  },
  {
   "cell_type": "markdown",
   "metadata": {
    "colab_type": "text",
    "id": "-4zq8Mza_D9O"
   },
   "source": [
    "### Importing the dataset"
   ]
  },
  {
   "cell_type": "code",
   "execution_count": 3,
   "metadata": {
    "colab": {},
    "colab_type": "code",
    "id": "B9CV13Co_HHM"
   },
   "outputs": [],
   "source": [
    "dataset = pd.read_excel('../Dataset/Folds5x2_pp.xlsx')\n",
    "X = dataset.iloc[:, :-1].values\n",
    "y = dataset.iloc[:, -1].values"
   ]
  },
  {
   "cell_type": "markdown",
   "metadata": {
    "colab_type": "text",
    "id": "VC6omXel_Up0"
   },
   "source": [
    "### Splitting the dataset into the Training set and Test set"
   ]
  },
  {
   "cell_type": "code",
   "execution_count": 4,
   "metadata": {
    "colab": {},
    "colab_type": "code",
    "id": "L5edeb2r_agx"
   },
   "outputs": [],
   "source": [
    "from sklearn.model_selection import train_test_split\n",
    "X_train, X_test, y_train, y_test = train_test_split(X, y, test_size = 0.2, random_state = 0)"
   ]
  },
  {
   "cell_type": "markdown",
   "metadata": {
    "colab_type": "text",
    "id": "_mSLlAT9_eyI"
   },
   "source": [
    "## Part 2 - Building the ANN"
   ]
  },
  {
   "cell_type": "markdown",
   "metadata": {
    "colab_type": "text",
    "id": "CsBULd_f_wLY"
   },
   "source": [
    "### Initializing the ANN"
   ]
  },
  {
   "cell_type": "code",
   "execution_count": 5,
   "metadata": {
    "colab": {},
    "colab_type": "code",
    "id": "J6Hd97Ls__Nz"
   },
   "outputs": [],
   "source": [
    "ann = tf.keras.models.Sequential()"
   ]
  },
  {
   "cell_type": "markdown",
   "metadata": {
    "colab_type": "text",
    "id": "iitAFJS_ABUn"
   },
   "source": [
    "### Adding the input layer and the first hidden layer"
   ]
  },
  {
   "cell_type": "code",
   "execution_count": 6,
   "metadata": {
    "colab": {},
    "colab_type": "code",
    "id": "ksO_Vv40AHix"
   },
   "outputs": [],
   "source": [
    "ann.add(tf.keras.layers.Dense(units=6, activation='relu'))"
   ]
  },
  {
   "cell_type": "markdown",
   "metadata": {
    "colab_type": "text",
    "id": "-lb4kK_wAKbs"
   },
   "source": [
    "### Adding the second hidden layer"
   ]
  },
  {
   "cell_type": "code",
   "execution_count": 7,
   "metadata": {
    "colab": {},
    "colab_type": "code",
    "id": "c2357OqEAQOQ"
   },
   "outputs": [],
   "source": [
    "ann.add(tf.keras.layers.Dense(units=6, activation='relu'))"
   ]
  },
  {
   "cell_type": "markdown",
   "metadata": {
    "colab_type": "text",
    "id": "jwMOmKb3AdBY"
   },
   "source": [
    "### Adding the output layer"
   ]
  },
  {
   "cell_type": "code",
   "execution_count": 8,
   "metadata": {
    "colab": {},
    "colab_type": "code",
    "id": "YFATpzsUAkLL"
   },
   "outputs": [],
   "source": [
    "ann.add(tf.keras.layers.Dense(units=1))"
   ]
  },
  {
   "cell_type": "markdown",
   "metadata": {
    "colab_type": "text",
    "id": "fq7e4fF6A1yy"
   },
   "source": [
    "## Part 3 - Training the ANN"
   ]
  },
  {
   "cell_type": "markdown",
   "metadata": {
    "colab_type": "text",
    "id": "qDeylAs2An25"
   },
   "source": [
    "### Compiling the ANN"
   ]
  },
  {
   "cell_type": "code",
   "execution_count": 9,
   "metadata": {
    "colab": {},
    "colab_type": "code",
    "id": "pesgbWlCAtB4"
   },
   "outputs": [],
   "source": [
    "ann.compile(optimizer = 'adam', loss = 'mean_squared_error')"
   ]
  },
  {
   "cell_type": "markdown",
   "metadata": {
    "colab_type": "text",
    "id": "YjVuiybYOo7r"
   },
   "source": [
    "### Training the ANN model on the Training set"
   ]
  },
  {
   "cell_type": "code",
   "execution_count": 10,
   "metadata": {
    "colab": {
     "base_uri": "https://localhost:8080/",
     "height": 1000
    },
    "colab_type": "code",
    "id": "c_vV-tiiA5zn",
    "outputId": "4a2b6ee6-ed75-4698-9069-b250e613803f",
    "scrolled": false
   },
   "outputs": [
    {
     "name": "stdout",
     "output_type": "stream",
     "text": [
      "Epoch 1/100\n",
      "240/240 [==============================] - 0s 1ms/step - loss: 125884.1094\n",
      "Epoch 2/100\n",
      "240/240 [==============================] - 0s 987us/step - loss: 484.6237\n",
      "Epoch 3/100\n",
      "240/240 [==============================] - 0s 1ms/step - loss: 310.2267\n",
      "Epoch 4/100\n",
      "240/240 [==============================] - 0s 1ms/step - loss: 302.2102\n",
      "Epoch 5/100\n",
      "240/240 [==============================] - 0s 985us/step - loss: 293.5847\n",
      "Epoch 6/100\n",
      "240/240 [==============================] - 0s 951us/step - loss: 282.7025\n",
      "Epoch 7/100\n",
      "240/240 [==============================] - 0s 993us/step - loss: 270.8771\n",
      "Epoch 8/100\n",
      "240/240 [==============================] - 0s 1ms/step - loss: 258.0773\n",
      "Epoch 9/100\n",
      "240/240 [==============================] - 0s 1ms/step - loss: 243.9350\n",
      "Epoch 10/100\n",
      "240/240 [==============================] - 0s 1ms/step - loss: 229.3497\n",
      "Epoch 11/100\n",
      "240/240 [==============================] - 0s 963us/step - loss: 214.0868\n",
      "Epoch 12/100\n",
      "240/240 [==============================] - 0s 932us/step - loss: 198.1620\n",
      "Epoch 13/100\n",
      "240/240 [==============================] - 0s 966us/step - loss: 182.3021\n",
      "Epoch 14/100\n",
      "240/240 [==============================] - 0s 831us/step - loss: 165.9249\n",
      "Epoch 15/100\n",
      "240/240 [==============================] - 0s 1ms/step - loss: 149.6071\n",
      "Epoch 16/100\n",
      "240/240 [==============================] - 0s 1ms/step - loss: 134.1681\n",
      "Epoch 17/100\n",
      "240/240 [==============================] - 0s 957us/step - loss: 119.0042\n",
      "Epoch 18/100\n",
      "240/240 [==============================] - 0s 999us/step - loss: 104.6392\n",
      "Epoch 19/100\n",
      "240/240 [==============================] - 0s 967us/step - loss: 91.1786\n",
      "Epoch 20/100\n",
      "240/240 [==============================] - 0s 993us/step - loss: 79.4568\n",
      "Epoch 21/100\n",
      "240/240 [==============================] - 0s 1ms/step - loss: 68.8776\n",
      "Epoch 22/100\n",
      "240/240 [==============================] - 0s 1ms/step - loss: 60.0729\n",
      "Epoch 23/100\n",
      "240/240 [==============================] - 0s 950us/step - loss: 52.5814\n",
      "Epoch 24/100\n",
      "240/240 [==============================] - 0s 881us/step - loss: 46.5999\n",
      "Epoch 25/100\n",
      "240/240 [==============================] - 0s 865us/step - loss: 42.3784\n",
      "Epoch 26/100\n",
      "240/240 [==============================] - 0s 1ms/step - loss: 39.1311\n",
      "Epoch 27/100\n",
      "240/240 [==============================] - 0s 922us/step - loss: 36.5856\n",
      "Epoch 28/100\n",
      "240/240 [==============================] - 0s 1ms/step - loss: 35.1360\n",
      "Epoch 29/100\n",
      "240/240 [==============================] - 0s 1ms/step - loss: 33.8094\n",
      "Epoch 30/100\n",
      "240/240 [==============================] - 0s 825us/step - loss: 33.1795\n",
      "Epoch 31/100\n",
      "240/240 [==============================] - 0s 1ms/step - loss: 32.4511\n",
      "Epoch 32/100\n",
      "240/240 [==============================] - 0s 909us/step - loss: 32.5109\n",
      "Epoch 33/100\n",
      "240/240 [==============================] - 0s 940us/step - loss: 31.9972\n",
      "Epoch 34/100\n",
      "240/240 [==============================] - 0s 908us/step - loss: 31.7388\n",
      "Epoch 35/100\n",
      "240/240 [==============================] - 0s 851us/step - loss: 31.3425\n",
      "Epoch 36/100\n",
      "240/240 [==============================] - 0s 1ms/step - loss: 31.2702\n",
      "Epoch 37/100\n",
      "240/240 [==============================] - 0s 968us/step - loss: 30.9320\n",
      "Epoch 38/100\n",
      "240/240 [==============================] - 0s 917us/step - loss: 30.7565\n",
      "Epoch 39/100\n",
      "240/240 [==============================] - 0s 1ms/step - loss: 31.2201\n",
      "Epoch 40/100\n",
      "240/240 [==============================] - 0s 884us/step - loss: 30.4348\n",
      "Epoch 41/100\n",
      "240/240 [==============================] - 0s 1ms/step - loss: 29.7691\n",
      "Epoch 42/100\n",
      "240/240 [==============================] - 0s 895us/step - loss: 29.9043\n",
      "Epoch 43/100\n",
      "240/240 [==============================] - 0s 1ms/step - loss: 29.7903\n",
      "Epoch 44/100\n",
      "240/240 [==============================] - 0s 1ms/step - loss: 29.6613\n",
      "Epoch 45/100\n",
      "240/240 [==============================] - 0s 849us/step - loss: 29.4043\n",
      "Epoch 46/100\n",
      "240/240 [==============================] - 0s 836us/step - loss: 29.9459\n",
      "Epoch 47/100\n",
      "240/240 [==============================] - 0s 841us/step - loss: 29.0793\n",
      "Epoch 48/100\n",
      "240/240 [==============================] - 0s 869us/step - loss: 29.1120\n",
      "Epoch 49/100\n",
      "240/240 [==============================] - 0s 826us/step - loss: 29.6819\n",
      "Epoch 50/100\n",
      "240/240 [==============================] - 0s 837us/step - loss: 28.9960\n",
      "Epoch 51/100\n",
      "240/240 [==============================] - 0s 842us/step - loss: 28.5146\n",
      "Epoch 52/100\n",
      "240/240 [==============================] - 0s 837us/step - loss: 28.8148\n",
      "Epoch 53/100\n",
      "240/240 [==============================] - 0s 873us/step - loss: 28.2871\n",
      "Epoch 54/100\n",
      "240/240 [==============================] - 0s 833us/step - loss: 27.8701\n",
      "Epoch 55/100\n",
      "240/240 [==============================] - 0s 971us/step - loss: 28.7890\n",
      "Epoch 56/100\n",
      "240/240 [==============================] - 0s 1ms/step - loss: 27.9681\n",
      "Epoch 57/100\n",
      "240/240 [==============================] - 0s 917us/step - loss: 28.0158\n",
      "Epoch 58/100\n",
      "240/240 [==============================] - 0s 960us/step - loss: 27.6385\n",
      "Epoch 59/100\n",
      "240/240 [==============================] - 0s 889us/step - loss: 28.3724\n",
      "Epoch 60/100\n",
      "240/240 [==============================] - 0s 887us/step - loss: 28.2457\n",
      "Epoch 61/100\n",
      "240/240 [==============================] - 0s 802us/step - loss: 27.5717\n",
      "Epoch 62/100\n",
      "240/240 [==============================] - 0s 851us/step - loss: 27.4425\n",
      "Epoch 63/100\n",
      "240/240 [==============================] - 0s 916us/step - loss: 27.9949\n",
      "Epoch 64/100\n",
      "240/240 [==============================] - 0s 1ms/step - loss: 28.2494\n",
      "Epoch 65/100\n",
      "240/240 [==============================] - 0s 1ms/step - loss: 27.1297\n",
      "Epoch 66/100\n",
      "240/240 [==============================] - 0s 955us/step - loss: 27.8511\n",
      "Epoch 67/100\n",
      "240/240 [==============================] - 0s 981us/step - loss: 27.5219\n",
      "Epoch 68/100\n",
      "240/240 [==============================] - 0s 1ms/step - loss: 26.8573\n",
      "Epoch 69/100\n",
      "240/240 [==============================] - 0s 1ms/step - loss: 27.0429\n",
      "Epoch 70/100\n",
      "240/240 [==============================] - 0s 879us/step - loss: 27.3833\n",
      "Epoch 71/100\n",
      "240/240 [==============================] - 0s 946us/step - loss: 27.0202\n",
      "Epoch 72/100\n",
      "240/240 [==============================] - 0s 871us/step - loss: 27.8012\n",
      "Epoch 73/100\n",
      "240/240 [==============================] - 0s 1ms/step - loss: 27.3823\n",
      "Epoch 74/100\n",
      "240/240 [==============================] - 0s 1ms/step - loss: 26.8255\n",
      "Epoch 75/100\n",
      "240/240 [==============================] - 0s 993us/step - loss: 26.7415\n",
      "Epoch 76/100\n",
      "240/240 [==============================] - 0s 882us/step - loss: 27.3080\n",
      "Epoch 77/100\n",
      "240/240 [==============================] - 0s 888us/step - loss: 27.2933\n",
      "Epoch 78/100\n",
      "240/240 [==============================] - 0s 1ms/step - loss: 26.8026\n",
      "Epoch 79/100\n",
      "240/240 [==============================] - 0s 916us/step - loss: 27.3160\n",
      "Epoch 80/100\n",
      "240/240 [==============================] - 0s 819us/step - loss: 26.9149\n",
      "Epoch 81/100\n",
      "240/240 [==============================] - 0s 852us/step - loss: 27.4405\n",
      "Epoch 82/100\n",
      "240/240 [==============================] - 0s 889us/step - loss: 27.1269\n",
      "Epoch 83/100\n",
      "240/240 [==============================] - 0s 919us/step - loss: 27.2001\n",
      "Epoch 84/100\n",
      "240/240 [==============================] - 0s 934us/step - loss: 26.8627\n",
      "Epoch 85/100\n",
      "240/240 [==============================] - 0s 873us/step - loss: 26.8679\n",
      "Epoch 86/100\n",
      "240/240 [==============================] - 0s 997us/step - loss: 27.1803\n",
      "Epoch 87/100\n",
      "240/240 [==============================] - 0s 981us/step - loss: 27.0430\n",
      "Epoch 88/100\n",
      "240/240 [==============================] - 0s 888us/step - loss: 26.5833\n",
      "Epoch 89/100\n",
      "240/240 [==============================] - 0s 894us/step - loss: 26.8614\n",
      "Epoch 90/100\n",
      "240/240 [==============================] - 0s 904us/step - loss: 27.2859\n",
      "Epoch 91/100\n",
      "240/240 [==============================] - 0s 950us/step - loss: 26.5101\n",
      "Epoch 92/100\n",
      "240/240 [==============================] - 0s 1ms/step - loss: 27.2799\n",
      "Epoch 93/100\n",
      "240/240 [==============================] - 0s 1ms/step - loss: 26.8915\n",
      "Epoch 94/100\n",
      "240/240 [==============================] - 0s 967us/step - loss: 26.8927\n",
      "Epoch 95/100\n",
      "240/240 [==============================] - 0s 956us/step - loss: 26.8600\n",
      "Epoch 96/100\n"
     ]
    },
    {
     "name": "stdout",
     "output_type": "stream",
     "text": [
      "240/240 [==============================] - 0s 848us/step - loss: 26.6804\n",
      "Epoch 97/100\n",
      "240/240 [==============================] - ETA: 0s - loss: 26.85 - 0s 833us/step - loss: 26.6308\n",
      "Epoch 98/100\n",
      "240/240 [==============================] - 0s 831us/step - loss: 27.1497\n",
      "Epoch 99/100\n",
      "240/240 [==============================] - 0s 833us/step - loss: 26.9721\n",
      "Epoch 100/100\n",
      "240/240 [==============================] - 0s 921us/step - loss: 26.2805\n"
     ]
    },
    {
     "data": {
      "text/plain": [
       "<tensorflow.python.keras.callbacks.History at 0x28e300ade48>"
      ]
     },
     "execution_count": 10,
     "metadata": {},
     "output_type": "execute_result"
    }
   ],
   "source": [
    "ann.fit(X_train, y_train, batch_size = 32, epochs = 100)"
   ]
  },
  {
   "cell_type": "markdown",
   "metadata": {
    "colab_type": "text",
    "id": "0H0zKKNEBLD5"
   },
   "source": [
    "### Predicting the results of the Test set"
   ]
  },
  {
   "cell_type": "code",
   "execution_count": 11,
   "metadata": {
    "colab": {
     "base_uri": "https://localhost:8080/",
     "height": 134
    },
    "colab_type": "code",
    "id": "IA0yApEmBG1X",
    "outputId": "cb981e1f-9204-4a2a-fece-9d66a6919189"
   },
   "outputs": [
    {
     "name": "stdout",
     "output_type": "stream",
     "text": [
      "[[431.67 431.23]\n",
      " [463.16 460.01]\n",
      " [466.83 461.14]\n",
      " ...\n",
      " [473.79 473.26]\n",
      " [441.05 438.  ]\n",
      " [460.1  463.28]]\n"
     ]
    }
   ],
   "source": [
    "y_pred = ann.predict(X_test)\n",
    "np.set_printoptions(precision=2)\n",
    "print(np.concatenate((y_pred.reshape(len(y_pred),1), y_test.reshape(len(y_test),1)),1))"
   ]
  }
 ],
 "metadata": {
  "colab": {
   "collapsed_sections": [],
   "name": "Artificial Neural Network",
   "provenance": [],
   "toc_visible": true
  },
  "kernelspec": {
   "display_name": "Python 3",
   "language": "python",
   "name": "python3"
  },
  "language_info": {
   "codemirror_mode": {
    "name": "ipython",
    "version": 3
   },
   "file_extension": ".py",
   "mimetype": "text/x-python",
   "name": "python",
   "nbconvert_exporter": "python",
   "pygments_lexer": "ipython3",
   "version": "3.7.6"
  }
 },
 "nbformat": 4,
 "nbformat_minor": 1
}
